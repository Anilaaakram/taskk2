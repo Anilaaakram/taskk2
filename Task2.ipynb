{
 "cells": [
  {
   "cell_type": "code",
   "execution_count": 2,
   "id": "78fcb10b-39b5-4b0e-8d33-1ac90d6b89c4",
   "metadata": {},
   "outputs": [
    {
     "name": "stdout",
     "output_type": "stream",
     "text": [
      "0    (a, 1)\n",
      "1    (x, 4)\n",
      "2    (c, 9)\n",
      "3    (2, 6)\n",
      "4    (e, 7)\n",
      "dtype: object\n"
     ]
    }
   ],
   "source": [
    "#Question:-01\n",
    "import pandas as pd\n",
    "#Define the data using a list of tuples\n",
    "data = [('a', 1), ('x', 4), ('c', 9), ('2', 6), ('e', 7)]\n",
    "# Create a Pandas series from the list of tuples\n",
    "series = pd.Series(data)\n",
    "print(series)\n"
   ]
  },
  {
   "cell_type": "code",
   "execution_count": 3,
   "id": "df51ba55-0e5c-4dfc-a024-c30aa7c047b3",
   "metadata": {},
   "outputs": [
    {
     "name": "stdout",
     "output_type": "stream",
     "text": [
      "Bilal     42\n",
      "Ayesha    38\n",
      "Hadia     39\n",
      "dtype: int64\n"
     ]
    }
   ],
   "source": [
    "#Question:-02\n",
    "import pandas as pd\n",
    "#Create a dictionary with names as keys and ages as values\n",
    "data = {'Bilal': 42, 'Ayesha': 38, 'Hadia': 39}\n",
    "#Create a Pandas series from the dictionary\n",
    "series = pd.Series(data)\n",
    "print(series)\n"
   ]
  },
  {
   "cell_type": "code",
   "execution_count": 4,
   "id": "232832db-c3ac-490e-911d-6500f1b19478",
   "metadata": {},
   "outputs": [
    {
     "name": "stdout",
     "output_type": "stream",
     "text": [
      "        day  temperature  windspeed  event\n",
      "0  1/1/2017           32          6   Rain\n",
      "1  1/2/2017           35          7  Sunny\n",
      "2  1/3/2017           28          2   Snow\n",
      "3  1/4/2017           24          7   Snow\n",
      "4  1/5/2017           32          4   Rain\n",
      "5  1/6/2017           31          2  Sunny\n"
     ]
    }
   ],
   "source": [
    "#Question:-03\n",
    "import pandas as pd\n",
    "# Create a Python dictionary with the given data\n",
    "data = {\n",
    "    'day': ['1/1/2017', '1/2/2017', '1/3/2017', '1/4/2017', '1/5/2017', '1/6/2017'],\n",
    "    'temperature': [32, 35, 28, 24, 32, 31],\n",
    "    'windspeed': [6, 7, 2, 7, 4, 2],\n",
    "    'event': ['Rain', 'Sunny', 'Snow', 'Snow', 'Rain', 'Sunny']\n",
    "}\n",
    "# Create a DataFrame from the dictionary\n",
    "df = pd.DataFrame(data)\n",
    "print(df)"
   ]
  },
  {
   "cell_type": "code",
   "execution_count": 5,
   "id": "73b8b59a-01ff-484b-ba72-b7f2fbd7bdb9",
   "metadata": {},
   "outputs": [
    {
     "name": "stdout",
     "output_type": "stream",
     "text": [
      "        day  temperature  windspeed  event\n",
      "a  1/1/2017           32          6   Rain\n",
      "b  1/2/2017           35          7  Sunny\n",
      "c  1/3/2017           28          2   Snow\n",
      "d  1/4/2017           24          7   Snow\n",
      "e  1/5/2017           32          4   Rain\n",
      "f  1/6/2017           31          2  Sunny\n"
     ]
    }
   ],
   "source": [
    "# Question:-04\n",
    "import pandas as pd\n",
    "# Create a Python dictionary with the given data\n",
    "data = {\n",
    "    'day': ['1/1/2017', '1/2/2017', '1/3/2017', '1/4/2017', '1/5/2017', '1/6/2017'],\n",
    "    'temperature': [32, 35, 28, 24, 32, 31],\n",
    "    'windspeed': [6, 7, 2, 7, 4, 2],\n",
    "    'event': ['Rain', 'Sunny', 'Snow', 'Snow', 'Rain', 'Sunny']\n",
    "}\n",
    "# Create a DataFrame from the dictionary with custom index\n",
    "df = pd.DataFrame(data, index=['a', 'b', 'c', 'd', 'e', 'f'])\n",
    "\n",
    "print(df)\n"
   ]
  },
  {
   "cell_type": "code",
   "execution_count": 6,
   "id": "90d7da23-cef6-4bec-8a52-ffcf96d03710",
   "metadata": {},
   "outputs": [
    {
     "name": "stdout",
     "output_type": "stream",
     "text": [
      "mean    30.333333\n",
      "max     35.000000\n",
      "min     24.000000\n",
      "Name: temperature, dtype: float64\n"
     ]
    }
   ],
   "source": [
    "#Question:-5\n",
    "import pandas as pd\n",
    "\n",
    "# Create a Python dictionary with the given data\n",
    "data = {\n",
    "    'day': ['1/1/2017', '1/2/2017', '1/3/2017', '1/4/2017', '1/5/2017', '1/6/2017'],\n",
    "    'temperature': [32, 35, 28, 24, 32, 31],\n",
    "    'windspeed': [6, 7, 2, 7, 4, 2],\n",
    "    'event': ['Rain', 'Sunny', 'Snow', 'Snow', 'Rain', 'Sunny']\n",
    "}\n",
    "# Create a DataFrame from the dictionary\n",
    "df = pd.DataFrame(data)\n",
    "# Calculate mean, maximum, and minimum for the label \"temperature\"\n",
    "temperature_stats = df['temperature'].agg(['mean', 'max', 'min'])\n",
    "print(temperature_stats)"
   ]
  },
  {
   "cell_type": "code",
   "execution_count": null,
   "id": "5060b08f-f395-4461-a0af-d1122008bd96",
   "metadata": {},
   "outputs": [],
   "source": []
  },
  {
   "cell_type": "code",
   "execution_count": null,
   "id": "303be7a5",
   "metadata": {},
   "outputs": [],
   "source": [
    "#Question:-6\n",
    "import pandas as pd\n",
    "# Import CSV 'people.csv' from the given folder\n",
    "file_path = 'path_to_folder/people.csv'\n",
    "# Define columns to be imported\n",
    "columns_to_import = [\"First Name\", \"Sex\", \"Email\", \"Phone\", \"Job Title\"]\n",
    "# Define index columns\n",
    "index_columns = [\"Sex\", \"Job Title\"]\n",
    "# Define rows to skip\n",
    "rows_to_skip = [1, 5]\n",
    "# Read CSV with specified columns and skiprows\n",
    "df = pd.read_csv(file_path, usecols=columns_to_import, skiprows=rows_to_skip)\n",
    "# Set index columns\n",
    "df.set_index(index_columns, inplace=True)\n",
    "# Export the modified DataFrame to CSV as \"NewPeople.csv\"\n",
    "df.to_csv('NewPeople.csv')\n"
   ]
  },
  {
   "cell_type": "code",
   "execution_count": null,
   "id": "c6d54b5b-d1fe-43d9-a3a4-b48331a8d6ef",
   "metadata": {},
   "outputs": [],
   "source": [
    "#Question:-7\n",
    "import pandas as pd\n",
    "# Define file paths\n",
    "input_file = \"path/to/SampleWork.xlsx\"\n",
    "output_file = \"path/to/NewSheet.xlsx\"\n",
    "# Read Excel file, import sheet 1, skip row 2, set row 2 as header, and select first and last columns\n",
    "data = pd.read_excel(input_file, sheet_name=0, skiprows=1, header=0, usecols=lambda x: x in [0, -1])\n",
    "# Export the modified DataFrame to a new Excel file\n",
    "data.to_excel(output_file, index=False)\n"
   ]
  }
 ],
 "metadata": {
  "kernelspec": {
   "display_name": "Python 3 (ipykernel)",
   "language": "python",
   "name": "python3"
  },
  "language_info": {
   "codemirror_mode": {
    "name": "ipython",
    "version": 3
   },
   "file_extension": ".py",
   "mimetype": "text/x-python",
   "name": "python",
   "nbconvert_exporter": "python",
   "pygments_lexer": "ipython3",
   "version": "3.12.1"
  },
  "widgets": {
   "application/vnd.jupyter.widget-state+json": {
    "state": {},
    "version_major": 2,
    "version_minor": 0
   }
  }
 },
 "nbformat": 4,
 "nbformat_minor": 5
}
